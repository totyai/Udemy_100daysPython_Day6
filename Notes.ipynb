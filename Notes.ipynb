{
 "cells": [
  {
   "cell_type": "markdown",
   "metadata": {},
   "source": [
    "# Day 6\n",
    "Functions & Code Blocks"
   ]
  },
  {
   "cell_type": "markdown",
   "metadata": {},
   "source": [
    "## Functions"
   ]
  },
  {
   "cell_type": "markdown",
   "metadata": {},
   "source": [
    "[Python built-in functions](https://docs.python.org/3/library/functions.html)\n",
    "These are fucntions, that can be run without any import, and is built into Pyhton\n",
    "eg.: print(), len()\n",
    "You can reference it with ()\n",
    "\n",
    "I can also create my own fucntions with def my_function(). inside our fucntion, it will be executed only when I make a call to it.\n",
    "I can declare the fucntion anywhere, but it iwll be only executed, when it is called."
   ]
  },
  {
   "cell_type": "code",
   "execution_count": 1,
   "metadata": {},
   "outputs": [
    {
     "name": "stdout",
     "output_type": "stream",
     "text": [
      "Hello\n",
      "Bye\n"
     ]
    }
   ],
   "source": [
    "def my_function(): #this is the fucntion, but it won't get executed right away\n",
    "    print(\"Hello\")\n",
    "    print(\"Bye\")\n",
    "\n",
    "my_function() #this is how I call the above fucntion, and then it executes"
   ]
  },
  {
   "cell_type": "markdown",
   "metadata": {},
   "source": [
    "### Challange - Reeborg robot\n",
    "Configure [Reeborg robot](https://reeborg.ca/reeborg.html?lang=en&mode=python&menu=worlds%2Fmenus%2Freeborg_intro_en.json&name=Alone&url=worlds%2Ftutorial_en%2Falone.json) to be able to turn right.\n",
    "**Code**: \n",
    "```\n",
    "def turn_right():\n",
    "    turn_left()\n",
    "    turn_left()\n",
    "    turn_left()\n",
    "    \n",
    "turn_right()\n",
    "```\n",
    "\n",
    "Configure the robot to draw a square, start by goind up\n",
    "\n",
    "**Code**:\n",
    "```\n",
    "def turn_right():\n",
    "    turn_left()\n",
    "    turn_left()\n",
    "    turn_left()\n",
    "\n",
    "turn_left()\n",
    "move()\n",
    "for i in range(0,3):\n",
    "    turn_right()\n",
    "    move()\n",
    "```"
   ]
  },
  {
   "cell_type": "markdown",
   "metadata": {},
   "source": [
    "### Challange - The Hurdles Loop\n",
    "Configure [Reeborg robot](https://reeborg.ca/reeborg.html?lang=en&mode=python&menu=worlds%2Fmenus%2Freeborg_intro_en.json&name=Hurdle%201&url=worlds%2Ftutorial_en%2Fhurdle1.json) to be able to run through the obsticles.\n",
    "\n",
    "**Code**:\n",
    "```\n",
    "def turn_right():\n",
    "    turn_left()\n",
    "    turn_left()\n",
    "    turn_left()\n",
    "   \n",
    "for i in range(0,6):\n",
    "    move()\n",
    "    turn_left()\n",
    "    for u in range(0,2):\n",
    "        move()\n",
    "        turn_right()\n",
    "    move()\n",
    "    turn_left()\n",
    "```"
   ]
  },
  {
   "cell_type": "markdown",
   "metadata": {},
   "source": [
    "## While loops\n",
    "While a particulare condition is true, it will run\n",
    "Kind of like an extra for loop.\n",
    "But in this case, we need a status variable, and modify it\n",
    "\n",
    "Syntax: \n",
    "`while something_is_true:`\n",
    "eg. the previous code:\n",
    "```\n",
    "def turn_right():\n",
    "    turn_left()\n",
    "    turn_left()\n",
    "    turn_left()\n",
    "\n",
    "number_of_hurdles = 6\n",
    "while number_of_hurdles > 0:i\n",
    "    move()\n",
    "    turn_left()\n",
    "    for u in range(0,2):\n",
    "        move()\n",
    "        turn_right()\n",
    "    move()\n",
    "    turn_left()\n",
    "    number_of_hurdles -= 1\n",
    "```"
   ]
  },
  {
   "cell_type": "markdown",
   "metadata": {},
   "source": [
    "### Challange - Hurdle 2 - random goal\n",
    "Configure [Reeborg robot](https://reeborg.ca/reeborg.html?lang=en&mode=python&menu=worlds%2Fmenus%2Freeborg_intro_en.json&name=Hurdle%202&url=worlds%2Ftutorial_en%2Fhurdle2.json) to be able to run through the obsticles, while the goal post is assigned randomly.\n",
    "\n",
    "```\n",
    "def turn_right():\n",
    "    turn_left()\n",
    "    turn_left()\n",
    "    turn_left()\n",
    "   \n",
    "while not at_goal():\n",
    "    move()\n",
    "    turn_left()\n",
    "    for u in range(0,2):\n",
    "        move()\n",
    "        turn_right()\n",
    "    move()\n",
    "    turn_left()\n",
    "```"
   ]
  },
  {
   "cell_type": "markdown",
   "metadata": {},
   "source": [
    "## For vs While loop\n",
    "*For* is useful for iteration over something and you want to **DO** something with the items in it.\n",
    "*While* is use for if you don't care the order and don't want to do somthing.\n",
    "\n",
    "With *while* you can also create infiniate loop, to do an always *true* statement"
   ]
  },
  {
   "cell_type": "markdown",
   "metadata": {},
   "source": [
    "### Challange - Hurdle 3\n",
    "Configure [Reeborg robot](https://reeborg.ca/reeborg.html?lang=en&mode=python&menu=worlds%2Fmenus%2Freeborg_intro_en.json&name=Hurdle%203&url=worlds%2Ftutorial_en%2Fhurdle3.json) to be able to run through the obsticles, while the goal post and hurle possibtion is assigned randomly.\n",
    "\n",
    "```\n",
    "def turn_right():\n",
    "    turn_left()\n",
    "    turn_left()\n",
    "    turn_left()\n",
    "   \n",
    "while not at_goal():\n",
    "    if front_is_clear():\n",
    "        move()\n",
    "    elif wall_in_front():\n",
    "        turn_left()\n",
    "        for u in range(0,2):\n",
    "            move()\n",
    "            turn_right()\n",
    "        move()\n",
    "        turn_left()\n",
    "```"
   ]
  },
  {
   "cell_type": "markdown",
   "metadata": {},
   "source": [
    "### Challange - Hurdle 4\n",
    "Configure [Reeborg robot](https://reeborg.ca/reeborg.html?lang=en&mode=python&menu=worlds%2Fmenus%2Freeborg_intro_en.json&name=Hurdle%204&url=worlds%2Ftutorial_en%2Fhurdle4.json) to be able to run through the obsticles, while the goal post, hurle possition and hieght is assigned randomly."
   ]
  }
 ],
 "metadata": {
  "kernelspec": {
   "display_name": "Python 3",
   "language": "python",
   "name": "python3"
  },
  "language_info": {
   "codemirror_mode": {
    "name": "ipython",
    "version": 3
   },
   "file_extension": ".py",
   "mimetype": "text/x-python",
   "name": "python",
   "nbconvert_exporter": "python",
   "pygments_lexer": "ipython3",
   "version": "3.12.1"
  }
 },
 "nbformat": 4,
 "nbformat_minor": 2
}
