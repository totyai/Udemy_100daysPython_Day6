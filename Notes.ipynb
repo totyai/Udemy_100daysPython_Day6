{
 "cells": [
  {
   "cell_type": "markdown",
   "metadata": {},
   "source": [
    "# Day 6\n",
    "Functions & Code Blocks"
   ]
  },
  {
   "cell_type": "markdown",
   "metadata": {},
   "source": [
    "## Functions"
   ]
  },
  {
   "cell_type": "markdown",
   "metadata": {},
   "source": [
    "[Python built-in functions](https://docs.python.org/3/library/functions.html)\n",
    "These are fucntions, that can be run without any import, and is built into Pyhton\n",
    "eg.: print(), len()\n",
    "You can reference it with ()\n",
    "\n",
    "I can also create my own fucntions with def my_function(). inside our fucntion, it will be executed only when I make a call to it.\n",
    "I can declare the fucntion anywhere, but it iwll be only executed, when it is called."
   ]
  },
  {
   "cell_type": "code",
   "execution_count": null,
   "metadata": {
    "vscode": {
     "languageId": "plaintext"
    }
   },
   "outputs": [],
   "source": []
  }
 ],
 "metadata": {
  "language_info": {
   "name": "python"
  }
 },
 "nbformat": 4,
 "nbformat_minor": 2
}
